{
 "cells": [
  {
   "cell_type": "markdown",
   "metadata": {},
   "source": [
    "19120624 - Nguyễn Trọng Phước"
   ]
  },
  {
   "cell_type": "markdown",
   "metadata": {},
   "source": [
    "Danh sách kiểm tra phân tích dữ liệu"
   ]
  },
  {
   "cell_type": "markdown",
   "metadata": {},
   "source": [
    "● Trả lời những câu hỏi về bộ dữ liệu:\n",
    "1. Bạn đã xác định số liệu trước khi bắt đầu?\n",
    "2. Bạn đã hiểu ngữ cảnh cho câu hỏi và ứng dụng?\n",
    "3. Bạn đã xem xét liệu câu hỏi có thể được trả lời với dữ liệu có sẵn\n",
    "không?\n"
   ]
  },
  {
   "cell_type": "markdown",
   "metadata": {},
   "source": [
    "● Xóa dữ liệu:\n",
    "1. Dữ liệu có bị thiếu không?\n",
    "2. Mỗi bảng có các kiểu dữ liệu khác nhau? Có kiểu dữ liệu nào chưa\n",
    "phù hợp?\n",
    "3. Kiểm tra các ngoại lệ\n"
   ]
  },
  {
   "cell_type": "markdown",
   "metadata": {},
   "source": [
    "● Phân tích khám phá:\n",
    "1. Trực quan hoá mối quan hệ đơn biến (histogram, distplot,\n",
    "boxplot)\n",
    "2. Trực quan hoá các tương quan đa biến (scatterplot, jointplot,\n",
    "kde plot, correlation matrix)\n"
   ]
  },
  {
   "cell_type": "markdown",
   "metadata": {},
   "source": [
    "● Trình bày:\n",
    "1. Bạn đã dẫn dắt một cách ngắn gọn, dễ hiểu cho mọi người về vấn đề\n",
    "của bạn?\n",
    "2. Bạn đã giải thích dữ liệu, mô tả câu hỏi cần quan tâm?\n"
   ]
  }
 ],
 "metadata": {
  "language_info": {
   "name": "python"
  },
  "orig_nbformat": 4
 },
 "nbformat": 4,
 "nbformat_minor": 2
}
