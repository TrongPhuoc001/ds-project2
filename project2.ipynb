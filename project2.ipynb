{
 "cells": [
  {
   "cell_type": "markdown",
   "metadata": {},
   "source": [
    "19120624 - Nguyễn Trọng Phước"
   ]
  },
  {
   "cell_type": "markdown",
   "metadata": {},
   "source": [
    "Danh sách kiểm tra phân tích dữ liệu"
   ]
  },
  {
   "cell_type": "markdown",
   "metadata": {},
   "source": [
    "● Trả lời những câu hỏi về bộ dữ liệu:\n",
    "1. Bạn đã xác định số liệu trước khi bắt đầu?\n",
    "2. Bạn đã hiểu ngữ cảnh cho câu hỏi và ứng dụng?\n",
    "3. Bạn đã xem xét liệu câu hỏi có thể được trả lời với dữ liệu có sẵn\n",
    "không?\n"
   ]
  },
  {
   "cell_type": "markdown",
   "metadata": {},
   "source": [
    "● Xóa dữ liệu:\n",
    "1. Dữ liệu có bị thiếu không?\n",
    "2. Mỗi bảng có các kiểu dữ liệu khác nhau? Có kiểu dữ liệu nào chưa\n",
    "phù hợp?\n",
    "3. Kiểm tra các ngoại lệ\n"
   ]
  },
  {
   "cell_type": "markdown",
   "metadata": {},
   "source": [
    "● Phân tích khám phá:\n",
    "1. Trực quan hoá mối quan hệ đơn biến (histogram, distplot,\n",
    "boxplot)\n",
    "2. Trực quan hoá các tương quan đa biến (scatterplot, jointplot,\n",
    "kde plot, correlation matrix)\n"
   ]
  },
  {
   "cell_type": "markdown",
   "metadata": {},
   "source": [
    "● Trình bày:\n",
    "1. Bạn đã dẫn dắt một cách ngắn gọn, dễ hiểu cho mọi người về vấn đề\n",
    "của bạn?\n",
    "2. Bạn đã giải thích dữ liệu, mô tả câu hỏi cần quan tâm?\n"
   ]
  },
  {
   "cell_type": "code",
   "execution_count": 1,
   "metadata": {},
   "outputs": [],
   "source": [
    "import matplotlib.pyplot as plt\n",
    "import numpy as np\n",
    "import pandas as pd \n",
    "import datetime"
   ]
  },
  {
   "cell_type": "markdown",
   "metadata": {},
   "source": [
    "Lấy dữ liệu"
   ]
  },
  {
   "cell_type": "code",
   "execution_count": 2,
   "metadata": {},
   "outputs": [
    {
     "data": {
      "text/html": [
       "<div>\n",
       "<style scoped>\n",
       "    .dataframe tbody tr th:only-of-type {\n",
       "        vertical-align: middle;\n",
       "    }\n",
       "\n",
       "    .dataframe tbody tr th {\n",
       "        vertical-align: top;\n",
       "    }\n",
       "\n",
       "    .dataframe thead th {\n",
       "        text-align: right;\n",
       "    }\n",
       "</style>\n",
       "<table border=\"1\" class=\"dataframe\">\n",
       "  <thead>\n",
       "    <tr style=\"text-align: right;\">\n",
       "      <th></th>\n",
       "      <th>avatar_url</th>\n",
       "      <th>city</th>\n",
       "      <th>comments_count</th>\n",
       "      <th>country_code</th>\n",
       "      <th>created_at</th>\n",
       "      <th>description</th>\n",
       "      <th>followers_count</th>\n",
       "      <th>followings_count</th>\n",
       "      <th>first_name</th>\n",
       "      <th>full_name</th>\n",
       "      <th>...</th>\n",
       "      <th>permalink_url</th>\n",
       "      <th>playlist_count</th>\n",
       "      <th>reposts_count</th>\n",
       "      <th>track_count</th>\n",
       "      <th>uri</th>\n",
       "      <th>urn</th>\n",
       "      <th>username</th>\n",
       "      <th>verified</th>\n",
       "      <th>station_urn</th>\n",
       "      <th>station_permalink</th>\n",
       "    </tr>\n",
       "    <tr>\n",
       "      <th>id</th>\n",
       "      <th></th>\n",
       "      <th></th>\n",
       "      <th></th>\n",
       "      <th></th>\n",
       "      <th></th>\n",
       "      <th></th>\n",
       "      <th></th>\n",
       "      <th></th>\n",
       "      <th></th>\n",
       "      <th></th>\n",
       "      <th></th>\n",
       "      <th></th>\n",
       "      <th></th>\n",
       "      <th></th>\n",
       "      <th></th>\n",
       "      <th></th>\n",
       "      <th></th>\n",
       "      <th></th>\n",
       "      <th></th>\n",
       "      <th></th>\n",
       "      <th></th>\n",
       "    </tr>\n",
       "  </thead>\n",
       "  <tbody>\n",
       "    <tr>\n",
       "      <th>81290815</th>\n",
       "      <td>https://i1.sndcdn.com/avatars-a20m3vXOqHSDGn9P...</td>\n",
       "      <td>Jupiter</td>\n",
       "      <td>8</td>\n",
       "      <td>NaN</td>\n",
       "      <td>2014-02-21T18:46:22Z</td>\n",
       "      <td>NaN</td>\n",
       "      <td>21</td>\n",
       "      <td>2</td>\n",
       "      <td>Vidar</td>\n",
       "      <td>Vidar Westerlund</td>\n",
       "      <td>...</td>\n",
       "      <td>https://soundcloud.com/morningwoodinu</td>\n",
       "      <td>1</td>\n",
       "      <td>NaN</td>\n",
       "      <td>1</td>\n",
       "      <td>https://api.soundcloud.com/users/81290815</td>\n",
       "      <td>soundcloud:users:81290815</td>\n",
       "      <td>Vidar Westerlund</td>\n",
       "      <td>False</td>\n",
       "      <td>soundcloud:system-playlists:artist-stations:81...</td>\n",
       "      <td>artist-stations:81290815</td>\n",
       "    </tr>\n",
       "    <tr>\n",
       "      <th>88985927</th>\n",
       "      <td>https://i1.sndcdn.com/avatars-000178228275-wkq...</td>\n",
       "      <td>San Francisco</td>\n",
       "      <td>3</td>\n",
       "      <td>US</td>\n",
       "      <td>2014-04-11T22:23:37Z</td>\n",
       "      <td>Product Hunt Radio (PHR) is for the product ge...</td>\n",
       "      <td>4709</td>\n",
       "      <td>0</td>\n",
       "      <td>Product</td>\n",
       "      <td>Product Hunt</td>\n",
       "      <td>...</td>\n",
       "      <td>https://soundcloud.com/producthunt</td>\n",
       "      <td>1</td>\n",
       "      <td>NaN</td>\n",
       "      <td>137</td>\n",
       "      <td>https://api.soundcloud.com/users/88985927</td>\n",
       "      <td>soundcloud:users:88985927</td>\n",
       "      <td>Product Hunt</td>\n",
       "      <td>False</td>\n",
       "      <td>soundcloud:system-playlists:artist-stations:88...</td>\n",
       "      <td>artist-stations:88985927</td>\n",
       "    </tr>\n",
       "    <tr>\n",
       "      <th>62921190</th>\n",
       "      <td>https://i1.sndcdn.com/avatars-000073120599-46q...</td>\n",
       "      <td>Menlo Park</td>\n",
       "      <td>12</td>\n",
       "      <td>US</td>\n",
       "      <td>2013-10-20T19:59:10Z</td>\n",
       "      <td>The a16z Podcast discusses tech and culture tr...</td>\n",
       "      <td>33464</td>\n",
       "      <td>0</td>\n",
       "      <td>Andreessen Horowitz</td>\n",
       "      <td>Andreessen Horowitz</td>\n",
       "      <td>...</td>\n",
       "      <td>https://soundcloud.com/a16z</td>\n",
       "      <td>0</td>\n",
       "      <td>NaN</td>\n",
       "      <td>501</td>\n",
       "      <td>https://api.soundcloud.com/users/62921190</td>\n",
       "      <td>soundcloud:users:62921190</td>\n",
       "      <td>a16z</td>\n",
       "      <td>False</td>\n",
       "      <td>soundcloud:system-playlists:artist-stations:62...</td>\n",
       "      <td>artist-stations:62921190</td>\n",
       "    </tr>\n",
       "    <tr>\n",
       "      <th>57719179</th>\n",
       "      <td>https://i1.sndcdn.com/avatars-000054306206-bpm...</td>\n",
       "      <td>NaN</td>\n",
       "      <td>0</td>\n",
       "      <td>NaN</td>\n",
       "      <td>2013-09-11T18:47:30Z</td>\n",
       "      <td>NaN</td>\n",
       "      <td>561</td>\n",
       "      <td>0</td>\n",
       "      <td>NaN</td>\n",
       "      <td>NaN</td>\n",
       "      <td>...</td>\n",
       "      <td>https://soundcloud.com/thebigwebshow</td>\n",
       "      <td>0</td>\n",
       "      <td>NaN</td>\n",
       "      <td>3</td>\n",
       "      <td>https://api.soundcloud.com/users/57719179</td>\n",
       "      <td>soundcloud:users:57719179</td>\n",
       "      <td>The Big Web Show</td>\n",
       "      <td>False</td>\n",
       "      <td>soundcloud:system-playlists:artist-stations:57...</td>\n",
       "      <td>artist-stations:57719179</td>\n",
       "    </tr>\n",
       "    <tr>\n",
       "      <th>18085321</th>\n",
       "      <td>https://i1.sndcdn.com/avatars-Oi1cv6yg1Y3ftdMR...</td>\n",
       "      <td>NaN</td>\n",
       "      <td>26</td>\n",
       "      <td>US</td>\n",
       "      <td>2012-06-05T00:01:17Z</td>\n",
       "      <td>Salute the Groove - Where we only repost the t...</td>\n",
       "      <td>11924</td>\n",
       "      <td>267</td>\n",
       "      <td>NaN</td>\n",
       "      <td>NaN</td>\n",
       "      <td>...</td>\n",
       "      <td>https://soundcloud.com/salutethegroove</td>\n",
       "      <td>11</td>\n",
       "      <td>NaN</td>\n",
       "      <td>0</td>\n",
       "      <td>https://api.soundcloud.com/users/18085321</td>\n",
       "      <td>soundcloud:users:18085321</td>\n",
       "      <td>SALUTE THE GROOVE</td>\n",
       "      <td>False</td>\n",
       "      <td>soundcloud:system-playlists:artist-stations:18...</td>\n",
       "      <td>artist-stations:18085321</td>\n",
       "    </tr>\n",
       "  </tbody>\n",
       "</table>\n",
       "<p>5 rows × 27 columns</p>\n",
       "</div>"
      ],
      "text/plain": [
       "                                                 avatar_url           city  \\\n",
       "id                                                                           \n",
       "81290815  https://i1.sndcdn.com/avatars-a20m3vXOqHSDGn9P...        Jupiter   \n",
       "88985927  https://i1.sndcdn.com/avatars-000178228275-wkq...  San Francisco   \n",
       "62921190  https://i1.sndcdn.com/avatars-000073120599-46q...     Menlo Park   \n",
       "57719179  https://i1.sndcdn.com/avatars-000054306206-bpm...            NaN   \n",
       "18085321  https://i1.sndcdn.com/avatars-Oi1cv6yg1Y3ftdMR...            NaN   \n",
       "\n",
       "          comments_count country_code            created_at  \\\n",
       "id                                                            \n",
       "81290815               8          NaN  2014-02-21T18:46:22Z   \n",
       "88985927               3           US  2014-04-11T22:23:37Z   \n",
       "62921190              12           US  2013-10-20T19:59:10Z   \n",
       "57719179               0          NaN  2013-09-11T18:47:30Z   \n",
       "18085321              26           US  2012-06-05T00:01:17Z   \n",
       "\n",
       "                                                description  followers_count  \\\n",
       "id                                                                             \n",
       "81290815                                                NaN               21   \n",
       "88985927  Product Hunt Radio (PHR) is for the product ge...             4709   \n",
       "62921190  The a16z Podcast discusses tech and culture tr...            33464   \n",
       "57719179                                                NaN              561   \n",
       "18085321  Salute the Groove - Where we only repost the t...            11924   \n",
       "\n",
       "          followings_count           first_name            full_name  ...  \\\n",
       "id                                                                    ...   \n",
       "81290815                 2                Vidar     Vidar Westerlund  ...   \n",
       "88985927                 0              Product         Product Hunt  ...   \n",
       "62921190                 0  Andreessen Horowitz  Andreessen Horowitz  ...   \n",
       "57719179                 0                  NaN                  NaN  ...   \n",
       "18085321               267                  NaN                  NaN  ...   \n",
       "\n",
       "                                   permalink_url playlist_count reposts_count  \\\n",
       "id                                                                              \n",
       "81290815   https://soundcloud.com/morningwoodinu              1           NaN   \n",
       "88985927      https://soundcloud.com/producthunt              1           NaN   \n",
       "62921190             https://soundcloud.com/a16z              0           NaN   \n",
       "57719179    https://soundcloud.com/thebigwebshow              0           NaN   \n",
       "18085321  https://soundcloud.com/salutethegroove             11           NaN   \n",
       "\n",
       "         track_count                                        uri  \\\n",
       "id                                                                \n",
       "81290815           1  https://api.soundcloud.com/users/81290815   \n",
       "88985927         137  https://api.soundcloud.com/users/88985927   \n",
       "62921190         501  https://api.soundcloud.com/users/62921190   \n",
       "57719179           3  https://api.soundcloud.com/users/57719179   \n",
       "18085321           0  https://api.soundcloud.com/users/18085321   \n",
       "\n",
       "                                urn           username verified  \\\n",
       "id                                                                \n",
       "81290815  soundcloud:users:81290815   Vidar Westerlund    False   \n",
       "88985927  soundcloud:users:88985927       Product Hunt    False   \n",
       "62921190  soundcloud:users:62921190               a16z    False   \n",
       "57719179  soundcloud:users:57719179   The Big Web Show    False   \n",
       "18085321  soundcloud:users:18085321  SALUTE THE GROOVE    False   \n",
       "\n",
       "                                                station_urn  \\\n",
       "id                                                            \n",
       "81290815  soundcloud:system-playlists:artist-stations:81...   \n",
       "88985927  soundcloud:system-playlists:artist-stations:88...   \n",
       "62921190  soundcloud:system-playlists:artist-stations:62...   \n",
       "57719179  soundcloud:system-playlists:artist-stations:57...   \n",
       "18085321  soundcloud:system-playlists:artist-stations:18...   \n",
       "\n",
       "                 station_permalink  \n",
       "id                                  \n",
       "81290815  artist-stations:81290815  \n",
       "88985927  artist-stations:88985927  \n",
       "62921190  artist-stations:62921190  \n",
       "57719179  artist-stations:57719179  \n",
       "18085321  artist-stations:18085321  \n",
       "\n",
       "[5 rows x 27 columns]"
      ]
     },
     "execution_count": 2,
     "metadata": {},
     "output_type": "execute_result"
    }
   ],
   "source": [
    "user_df = pd.read_csv('api_data/user.csv')\n",
    "user_df = user_df.set_index('id')\n",
    "playlist_df = pd.read_csv('api_data/playlist.csv')\n",
    "playlist_df = playlist_df.set_index('id')\n",
    "track_df = pd.read_csv('api_data/track.csv')\n",
    "track_df = track_df.set_index('id')\n",
    "user_df.head()\n"
   ]
  },
  {
   "cell_type": "code",
   "execution_count": 3,
   "metadata": {},
   "outputs": [
    {
     "name": "stdout",
     "output_type": "stream",
     "text": [
      "user: 1021 rows x 27 columns\n",
      "playlist: 1056 rows x 31 columns\n",
      "track: 1098 rows x 45 columns\n"
     ]
    }
   ],
   "source": [
    "#Lấy số lượng dòng và cột\n",
    "user_rows = len(user_df)\n",
    "user_columns = len(user_df.columns)\n",
    "playlist_rows = len(playlist_df)\n",
    "playlist_columns = len(playlist_df.columns)\n",
    "track_rows = len(track_df)\n",
    "track_columns = len(track_df.columns)\n",
    "print(f'user: {user_rows} rows x {user_columns} columns\\nplaylist: {playlist_rows} rows x {playlist_columns} columns\\ntrack: {track_rows} rows x {track_columns} columns')"
   ]
  },
  {
   "cell_type": "code",
   "execution_count": 4,
   "metadata": {},
   "outputs": [
    {
     "name": "stdout",
     "output_type": "stream",
     "text": [
      "number of duplicated:\n",
      "user:6\n",
      "playlist:0\n",
      "track:0\n",
      "\n"
     ]
    }
   ],
   "source": [
    "#xem có bị trùng dữ liệu không\n",
    "user_df = user_df[~user_df.index.duplicated(keep='first')]\n",
    "playlist_df = playlist_df[~playlist_df.index.duplicated(keep='first')]\n",
    "track_df = track_df[~track_df.index.duplicated(keep='first')]\n",
    "print(f'number of duplicated:\\nuser:{user_rows-len(user_df)}\\nplaylist:{playlist_rows-len(playlist_df)}\\ntrack:{track_rows-len(track_df)}\\n')"
   ]
  },
  {
   "cell_type": "code",
   "execution_count": 5,
   "metadata": {},
   "outputs": [],
   "source": [
    "#update lại user_rows\n",
    "user_rows = len(user_df)"
   ]
  },
  {
   "cell_type": "code",
   "execution_count": 6,
   "metadata": {},
   "outputs": [
    {
     "name": "stdout",
     "output_type": "stream",
     "text": [
      "avatar_url               object\n",
      "city                     object\n",
      "comments_count            int64\n",
      "country_code             object\n",
      "created_at               object\n",
      "description              object\n",
      "followers_count           int64\n",
      "followings_count          int64\n",
      "first_name               object\n",
      "full_name                object\n",
      "groups_count              int64\n",
      "kind                     object\n",
      "last_modified            object\n",
      "last_name                object\n",
      "likes_count               int64\n",
      "playlist_likes_count      int64\n",
      "permalink                object\n",
      "permalink_url            object\n",
      "playlist_count            int64\n",
      "reposts_count           float64\n",
      "track_count               int64\n",
      "uri                      object\n",
      "urn                      object\n",
      "username                 object\n",
      "verified                   bool\n",
      "station_urn              object\n",
      "station_permalink        object\n",
      "dtype: object\n",
      "artwork_url          object\n",
      "created_at           object\n",
      "description          object\n",
      "duration              int64\n",
      "embeddable_by        object\n",
      "genre                object\n",
      "kind                 object\n",
      "label_name           object\n",
      "last_modified        object\n",
      "license              object\n",
      "likes_count           int64\n",
      "managed_by_feeds       bool\n",
      "permalink            object\n",
      "permalink_url        object\n",
      "public                 bool\n",
      "purchase_title       object\n",
      "purchase_url         object\n",
      "release_date         object\n",
      "reposts_count         int64\n",
      "secret_token        float64\n",
      "sharing              object\n",
      "tag_list             object\n",
      "title                object\n",
      "uri                  object\n",
      "user_id               int64\n",
      "set_type             object\n",
      "is_album               bool\n",
      "published_at         object\n",
      "display_date         object\n",
      "tracks               object\n",
      "track_count           int64\n",
      "dtype: object\n",
      "artwork_url             object\n",
      "caption                float64\n",
      "commentable               bool\n",
      "comment_count          float64\n",
      "created_at              object\n",
      "description             object\n",
      "downloadable              bool\n",
      "download_count           int64\n",
      "duration                 int64\n",
      "full_duration            int64\n",
      "embeddable_by           object\n",
      "genre                   object\n",
      "has_downloads_left        bool\n",
      "kind                    object\n",
      "label_name              object\n",
      "last_modified           object\n",
      "license                 object\n",
      "likes_count              int64\n",
      "permalink               object\n",
      "permalink_url           object\n",
      "playback_count           int64\n",
      "public                    bool\n",
      "purchase_title          object\n",
      "purchase_url            object\n",
      "release_date            object\n",
      "reposts_count            int64\n",
      "secret_token           float64\n",
      "sharing                 object\n",
      "state                   object\n",
      "streamable                bool\n",
      "tag_list                object\n",
      "title                   object\n",
      "track_format            object\n",
      "uri                     object\n",
      "urn                     object\n",
      "user_id                  int64\n",
      "visuals                float64\n",
      "waveform_url            object\n",
      "display_date            object\n",
      "station_urn             object\n",
      "station_permalink       object\n",
      "track_authorization     object\n",
      "monetization_model      object\n",
      "policy                  object\n",
      "user                     int64\n",
      "dtype: object\n"
     ]
    }
   ],
   "source": [
    "#Xem kiểu dữ liệu\n",
    "print(user_df.dtypes)\n",
    "print(playlist_df.dtypes)\n",
    "print(track_df.dtypes)"
   ]
  },
  {
   "cell_type": "code",
   "execution_count": 7,
   "metadata": {},
   "outputs": [
    {
     "name": "stdout",
     "output_type": "stream",
     "text": [
      "tracks remove : 1\n",
      "playlists remove : 6\n"
     ]
    }
   ],
   "source": [
    "#sử lý các track, playlist có duration = 0 \n",
    "track_df = track_df[track_df['duration']!=0]\n",
    "print(\"tracks remove :\", track_rows - len(track_df))\n",
    "track_rows = len(track_df)\n",
    "playlist_df = playlist_df[playlist_df['duration']!=0]\n",
    "print(\"playlists remove :\", playlist_rows - len(playlist_df))\n",
    "playlist_rows = len(playlist_df)"
   ]
  },
  {
   "cell_type": "markdown",
   "metadata": {},
   "source": [
    "Câu 1: Bảng xếp hạng thể loại nhạc tháng trong 1 năm nhất định"
   ]
  },
  {
   "cell_type": "code",
   "execution_count": 17,
   "metadata": {},
   "outputs": [
    {
     "name": "stderr",
     "output_type": "stream",
     "text": [
      "C:\\Users\\death\\AppData\\Local\\Temp/ipykernel_14648/3410379762.py:6: SettingWithCopyWarning: \n",
      "A value is trying to be set on a copy of a slice from a DataFrame.\n",
      "Try using .loc[row_indexer,col_indexer] = value instead\n",
      "\n",
      "See the caveats in the documentation: https://pandas.pydata.org/pandas-docs/stable/user_guide/indexing.html#returning-a-view-versus-a-copy\n",
      "  temp_df['created_at'] = track_df['created_at'].str.slice(stop=4)\n"
     ]
    },
    {
     "data": {
      "text/plain": [
       "{'2007': 'French touch',\n",
       " '2008': 'house',\n",
       " '2009': 'house',\n",
       " '2010': 'House',\n",
       " '2011': 'Announcement',\n",
       " '2012': 'Jazz',\n",
       " '2013': 'Serviço',\n",
       " '2014': 'Framtidsbas',\n",
       " '2015': 'sh101',\n",
       " '2016': 'Electronic',\n",
       " '2017': 'Technology',\n",
       " '2018': 'Technology',\n",
       " '2019': 'Technology',\n",
       " '2020': 'Alternative',\n",
       " '2021': 'Oldies'}"
      ]
     },
     "execution_count": 17,
     "metadata": {},
     "output_type": "execute_result"
    }
   ],
   "source": [
    "years = track_df['created_at'].str.slice(stop=4)\n",
    "result ={}\n",
    "set_years = set(years)\n",
    "set_years=sorted(set_years)\n",
    "temp_df = track_df[['created_at','genre']]\n",
    "temp_df['created_at'] = track_df['created_at'].str.slice(stop=4)\n",
    "temp_df=temp_df.dropna()\n",
    "for year in set_years:\n",
    "    temp2_df = temp_df[temp_df['created_at'] == year]\n",
    "    list_genre = list(temp2_df['genre'])\n",
    "    most_genre = max(set(list_genre), key = list_genre.count)\n",
    "    result[year] = most_genre\n",
    "result\n"
   ]
  },
  {
   "cell_type": "markdown",
   "metadata": {},
   "source": [
    "Câu 2: Tỉ lệ về khả năng download track (true/false)"
   ]
  },
  {
   "cell_type": "code",
   "execution_count": 18,
   "metadata": {},
   "outputs": [
    {
     "data": {
      "image/png": "[encoded data removed]",
      "text/plain": [
       "<Figure size 432x288 with 1 Axes>"
      ]
     },
     "metadata": {},
     "output_type": "display_data"
    }
   ],
   "source": [
    "list_downloadable = list(track_df['downloadable'])\n",
    "yes_percent=round((list_downloadable.count(True)/len(list_downloadable))*100,2)\n",
    "no_percent = 100- yes_percent\n",
    "labels = 'Downloadalbe', 'Not'\n",
    "sizes = [yes_percent, no_percent]\n",
    "explode = (0.1, 0)  # only \"explode\" the 2nd slice (i.e. 'Hogs')\n",
    "\n",
    "fig1, ax1 = plt.subplots()\n",
    "ax1.pie(sizes, explode=explode, labels=labels, autopct='%1.1f%%',\n",
    "        shadow=True, startangle=90)\n",
    "ax1.axis('equal')  # Equal aspect ratio ensures that pie is drawn as a circle.\n",
    "\n",
    "plt.show()\n"
   ]
  },
  {
   "cell_type": "markdown",
   "metadata": {},
   "source": [
    "Câu 3:Những bài hát có độ tương tác cao (like/cmt)"
   ]
  },
  {
   "cell_type": "code",
   "execution_count": 53,
   "metadata": {},
   "outputs": [
    {
     "name": "stderr",
     "output_type": "stream",
     "text": [
      "C:\\Users\\death\\AppData\\Local\\Temp/ipykernel_14648/2763043967.py:3: SettingWithCopyWarning: \n",
      "A value is trying to be set on a copy of a slice from a DataFrame.\n",
      "Try using .loc[row_indexer,col_indexer] = value instead\n",
      "\n",
      "See the caveats in the documentation: https://pandas.pydata.org/pandas-docs/stable/user_guide/indexing.html#returning-a-view-versus-a-copy\n",
      "  temp_df['total'] = sum_comlike\n"
     ]
    },
    {
     "data": {
      "image/png": "[encoded data removed]",
      "text/plain": [
       "<Figure size 432x288 with 1 Axes>"
      ]
     },
     "metadata": {},
     "output_type": "display_data"
    }
   ],
   "source": [
    "temp_df = track_df[['title','comment_count','likes_count']]\n",
    "sum_comlike = temp_df['comment_count']+temp_df['likes_count']\n",
    "temp_df['total'] = sum_comlike\n",
    "list_total = list(set(sum_comlike))\n",
    "list_total.sort(reverse=True)\n",
    "list_total = list_total[0:9]\n",
    "tracks = temp_df[temp_df['total'].isin(list_total)]\n",
    "tracks=tracks.sort_values(by=['total'])\n",
    "plt.barh(tracks['title'],tracks['total'])\n",
    "plt.xlabel('Số lượng like+comment')\n",
    "plt.style.use('ggplot')\n",
    "plt.show()"
   ]
  },
  {
   "cell_type": "markdown",
   "metadata": {},
   "source": [
    "câu 4 :  Những album có số lượng track cao nhất"
   ]
  },
  {
   "cell_type": "code",
   "execution_count": 54,
   "metadata": {},
   "outputs": [
    {
     "data": {
      "image/png": "[encoded data removed]",
      "text/plain": [
       "<Figure size 432x288 with 1 Axes>"
      ]
     },
     "metadata": {},
     "output_type": "display_data"
    }
   ],
   "source": [
    "temp_df = playlist_df[['title','is_album','track_count']]\n",
    "temp_df = temp_df[temp_df['is_album']==True]\n",
    "list_track_count = list(set(temp_df['track_count']))\n",
    "list_track_count.sort(reverse=True)\n",
    "list_track_count=list_track_count[0:9]\n",
    "temp_df = temp_df[temp_df['track_count'].isin(list_track_count)]\n",
    "temp_df=temp_df.sort_values(by=['track_count'])\n",
    "plt.barh(temp_df['title'],temp_df['track_count'])\n",
    "plt.xlabel('Số lượng track')\n",
    "plt.style.use('ggplot')\n",
    "plt.show()"
   ]
  },
  {
   "cell_type": "markdown",
   "metadata": {},
   "source": [
    "Câu 5: Hot user của các city"
   ]
  },
  {
   "cell_type": "code",
   "execution_count": 55,
   "metadata": {},
   "outputs": [
    {
     "name": "stderr",
     "output_type": "stream",
     "text": [
      "C:\\Users\\death\\AppData\\Local\\Temp/ipykernel_14648/4267240971.py:3: SettingWithCopyWarning: \n",
      "A value is trying to be set on a copy of a slice from a DataFrame.\n",
      "Try using .loc[row_indexer,col_indexer] = value instead\n",
      "\n",
      "See the caveats in the documentation: https://pandas.pydata.org/pandas-docs/stable/user_guide/indexing.html#returning-a-view-versus-a-copy\n",
      "  temp_df['city']= temp_df['city'].str.split('/')\n"
     ]
    }
   ],
   "source": [
    "temp_df = user_df[['city','full_name','followers_count']]\n",
    "temp_df.dropna()\n",
    "temp_df['city']= temp_df['city'].str.split('/')\n",
    "temp_df = temp_df.explode('city')\n",
    "temp_df['city']= temp_df['city'].str.lower()\n",
    "result={}\n",
    "set_city = set(temp_df['city'])\n",
    "set_city.pop()\n",
    "for city in set_city:\n",
    "    temp2_df = temp_df[temp_df['city'] == city]\n",
    "    hot_user = max(set(temp2_df['followers_count']))\n",
    "    result[city]=hot_user"
   ]
  },
  {
   "cell_type": "markdown",
   "metadata": {},
   "source": [
    "Câu 6: User đóng góp lớn nhất"
   ]
  },
  {
   "cell_type": "code",
   "execution_count": 60,
   "metadata": {},
   "outputs": [
    {
     "name": "stdout",
     "output_type": "stream",
     "text": [
      "                              full_name  playlist_count  track_count  total\n",
      "id                                                                         \n",
      "946247          Bastard Jazz Recordings             114          550    664\n",
      "15713796                     since 2012              63          743    806\n",
      "2920187              Afropop  Worldwide              20          867    887\n",
      "10743701              Bruce Springsteen              90          894    984\n",
      "7390584                  Groove Magazin              55         1273   1328\n",
      "251687            Ghostly International             142         1258   1400\n",
      "21591953                 Kenneth  Bager              97         1339   1436\n",
      "352                   The Delsin Robots             236         1362   1598\n",
      "1961056   Global music radio from Paris              96         5933   6029\n"
     ]
    },
    {
     "data": {
      "image/png": "[encoded data removed]",
      "text/plain": [
       "<Figure size 432x288 with 1 Axes>"
      ]
     },
     "metadata": {},
     "output_type": "display_data"
    }
   ],
   "source": [
    "temp_df = user_df[['full_name','playlist_count','track_count']]\n",
    "temp_df=temp_df.dropna()\n",
    "temp_df['total'] = temp_df['playlist_count']+temp_df['track_count']\n",
    "list_total = list(set(temp_df['total']))\n",
    "list_total.sort(reverse=True)\n",
    "list_total = list_total[0:9]\n",
    "temp_df = temp_df[temp_df['total'].isin(list_total)]\n",
    "temp_df=temp_df.sort_values(by=['total'])\n",
    "print(temp_df)\n",
    "plt.barh(temp_df['full_name'],temp_df['total'])\n",
    "plt.xlabel('Số lượng track+playlist')\n",
    "plt.style.use('ggplot')\n",
    "plt.show()"
   ]
  },
  {
   "cell_type": "markdown",
   "metadata": {},
   "source": [
    "Câu 7 : User có độ tương tác cao nhất"
   ]
  },
  {
   "cell_type": "code",
   "execution_count": null,
   "metadata": {},
   "outputs": [],
   "source": []
  }
 ],
 "metadata": {
  "interpreter": {
   "hash": "6730372e3a45511a4bb08157495c62e452706eedb39833ddf9c6b28ffb22cbd5"
  },
  "kernelspec": {
   "display_name": "Python 3.8.8 64-bit ('min_ds-env': conda)",
   "language": "python",
   "name": "python3"
  },
  "language_info": {
   "codemirror_mode": {
    "name": "ipython",
    "version": 3
   },
   "file_extension": ".py",
   "mimetype": "text/x-python",
   "name": "python",
   "nbconvert_exporter": "python",
   "pygments_lexer": "ipython3",
   "version": "3.8.8"
  },
  "orig_nbformat": 4
 },
 "nbformat": 4,
 "nbformat_minor": 2
}
